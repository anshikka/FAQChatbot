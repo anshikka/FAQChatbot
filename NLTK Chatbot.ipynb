{
 "cells": [
  {
   "cell_type": "markdown",
   "metadata": {
    "colab_type": "text",
    "id": "VsyxtLWGQygw"
   },
   "source": [
    "<font color=\"#483D8B\">\n",
    "<h1  align=\"center\"> INET4061 Final Project : Creating an FAQ Chatbot from Scratch using NLTK</h1>\n",
    "<h3 align=\"center\"> Ansh Sikka</h3>\n",
    "<h3 align=\"center\"> 04/12/2019</h3>\n",
    "\n",
    "\n",
    "\n",
    "\n"
   ]
  },
  {
   "cell_type": "code",
   "execution_count": 1,
   "metadata": {
    "colab": {},
    "colab_type": "code",
    "id": "zOjufbTChUsx"
   },
   "outputs": [],
   "source": [
    "import nltk\n",
    "import numpy as np\n",
    "import random\n",
    "import string\n",
    "from math import *\n",
    "from sklearn.feature_extraction.text import TfidfVectorizer\n",
    "from sklearn.metrics.pairwise import cosine_similarity\n",
    "from sklearn.metrics.pairwise import cosine_distances\n",
    "from sklearn.metrics.pairwise import pairwise_distances"
   ]
  },
  {
   "cell_type": "markdown",
   "metadata": {
    "colab": {},
    "colab_type": "code",
    "id": "0uMiQDebSf0y"
   },
   "source": [
    "# Overview"
   ]
  },
  {
   "cell_type": "markdown",
   "metadata": {
    "colab": {},
    "colab_type": "code",
    "id": "7FuykV7Ph8xz"
   },
   "source": [
    "This project aims to explore the abilities of textual models by building a functioning chatbot that answers FAQ answers from the cars.com website. \n",
    "We will explore the following concepts in textual data:\n",
    "* Tokenization\n",
    "* Linguistic Preprocessing\n",
    "    * Token Normalization\n",
    "    * Case-folding\n",
    "    * Stemming and Normalization\n",
    "* Models\n",
    "    * Cosine Similarity-Based Model\n",
    "    * Euclidean Distance-Based Model\n",
    "* Running the Chatbot!\n",
    "\n",
    "The code being used in this notebook is based off the code at the medium article at https://medium.com/analytics-vidhya/building-a-simple-chatbot-in-python-using-nltk-7c8c8215ac6e\n",
    "\n",
    "The data for this notebook can be found at https://www.cars.com/help/\n",
    "\n",
    "Additional References\n",
    "* http://nlp.stanford.edu/IR-book/\n",
    "* https://www.youtube.com/watch?v=SJDEOWLHYVo\n",
    "* https://scikit-learn.org/stable/modules/generated/sklearn.metrics.pairwise.euclidean_distances.html\n",
    "* https://scikit-learn.org/stable/modules/generated/sklearn.metrics.pairwise.cosine_similarity.html\n",
    "* https://machinelearningmastery.com/calculate-bleu-score-for-text-python/"
   ]
  },
  {
   "cell_type": "markdown",
   "metadata": {},
   "source": [
    "# Business Use Case\n",
    "* Conversational User Interface\n",
    "    * Sense of interaction with another person\n",
    "    * Feels natural to the user - fluidity\n",
    "* Specific to User's Needs\n",
    "    * Can answer a specific question, no need to search or browse\n",
    "    * Can give personalized responses with user's information in context\n",
    "* Integration with Social Media Apps\n",
    "    * No need to download seperate apps (e.g. CNN, Weather)\n",
    "    * All connect to everyone's favorite social media apps\n",
    "        * Facebook Messenger\n",
    "        * Kik\n",
    "        * Slack\n",
    "* Customer Service\n",
    "    * Assist (or even replace) customer service agents\n",
    "    * Instant response times\n",
    "    * Highly scalable\n",
    "* Advertising\n",
    "    * Deliver in-context ads pertaining to current conversation\n",
    "    * Increase revenue of advertiser and host\n",
    "* Seamless Customer Experience\n",
    "    * No waiting for human assistance\n",
    "    * Available anytime, anywhere\n",
    "    "
   ]
  },
  {
   "cell_type": "markdown",
   "metadata": {
    "colab_type": "text",
    "id": "WGJCFrXJh9e_"
   },
   "source": [
    "# Data"
   ]
  },
  {
   "cell_type": "markdown",
   "metadata": {
    "colab": {
     "base_uri": "https://localhost:8080/",
     "height": 88,
     "resources": {
      "http://localhost:8080/nbextensions/google.colab/files.js": {
       "data": "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",
       "headers": [
        [
         "content-type",
         "application/javascript"
        ]
       ],
       "ok": true,
       "status": 200,
       "status_text": ""
      }
     }
    },
    "colab_type": "code",
    "id": "__a3NgNgh_Ox",
    "outputId": "fef5f7ff-ed97-410b-9cc3-8a82d5f96902"
   },
   "source": [
    "The data being used is a cars.com FAQ for common users. The FAQs can be found at https://www.cars.com/help/.\n",
    "The data will be raw data taken from the answers section. This will simply be sentences that answer the questions."
   ]
  },
  {
   "cell_type": "code",
   "execution_count": 2,
   "metadata": {},
   "outputs": [],
   "source": [
    "f=open('Data/carscom.txt','r',errors = 'ignore')"
   ]
  },
  {
   "cell_type": "code",
   "execution_count": 3,
   "metadata": {},
   "outputs": [],
   "source": [
    "raw_data = f.read()"
   ]
  },
  {
   "cell_type": "markdown",
   "metadata": {
    "colab_type": "text",
    "id": "Xeb8FToCREVK"
   },
   "source": [
    "# Exploratory Data Analysis"
   ]
  },
  {
   "cell_type": "code",
   "execution_count": 4,
   "metadata": {
    "colab": {},
    "colab_type": "code",
    "id": "aX8j4pJIlEPc"
   },
   "outputs": [
    {
     "name": "stdout",
     "output_type": "stream",
     "text": [
      "Cars.com is a leading digital automotive marketplace that creates meaningful connections between buyers and sellers. Through trusted expert content, on-the-lot mobile features and intelligence, millions of new and used vehicle listings, a comprehensive set of pricing and research tools, and the largest database of consumer reviews in the industry, Cars.com is transforming the car shopping experience.\n",
      "After entering your initial search criteria from the Cars.com homepage, you can adjust the results by adding filters from the vertical menu that is located on the left side of the page. As you select filters to narrow down your search, the results will adjust to show available vehicle listings within your desired radius/zip code. If using a mobile device, you can filter your results from the ‘Sort Option’ at the top right.\n",
      "Filter options will only appear if they are available for the vehicle type and radius you are searching. For example, you will not see the year 2011 as a filter option if there are not any 2011 vehicles available in your search radius.\n",
      "Creating an account allows you to save vehicle listings and receive alerts on new vehicles matching your saved searches, price drops, and more! From our homepage, click on the profile icon in the top right corner. From here, click the ‘Sign Up’ button and submit your information to create an account. To sign back in later, click the profile icon and enter your Log In credentials.\n",
      "When viewing a vehicle ad on Cars.com, you can select the ‘heart’ icon to ‘favorite’ the vehicle. This will add the vehicle to your ‘favorited’ vehicles list for future access. If you are signed into your account, Cars.com will also send emails to this address with any price drop alerts on the vehicle and to notify you when the vehicle is sold.\n",
      "When searching for vehicles on Cars.com, you can save any search at the top of the search results page by clicking the ‘Subscribe’ button and entering your preferred email address. Then, every evening, Cars.com will send an alert to the email address you entered if one or more fresh vehicles match your search criteria.When searching for vehicles on Cars.com, you can save any search at the top of the search results page by clicking the ‘Subscribe’ button and entering your preferred email address. Then, every evening, Cars.com will send an alert to the email address you entered if one or more fresh vehicles match your search criteria.\n",
      "Please send a record of your interaction with the seller to fraud@cars.com for our Fraud team to investigate. While Cars.com is available for public viewing and use, we are committed to keeping you safe. Please check out our article regarding fraud prevention.\n",
      "Once you find a car that interests you, please contact the seller directly via the phone number or email lead form on the vehicle listing. Note that none of the inventory on the site is owned or for sale by Cars.com.\n",
      "Once a listing is approved, it can take an additional 1-2 hours to appear on site.\n",
      "All sellers are required to provide a working phone number to display on their listing. Prospective buyers can contact you via phone by clicking “Call This Seller” to expose your phone number. They can also send an email via the “Check Availability” form on your listing. Your email address is not visible to the shopper until you respond.\n",
      "If you believe you have been contacted by a suspicious individual, please send a record of your interaction to fraud@cars.com for our Fraud team to investigate. Please reference our article regarding fraud prevention.\n",
      "Any changes to your vehicle listing, other than its package type, can be made after submitting your vehicle’s ad. You can delete, renew, edit or place a listing on hold all from your seller dashboard.\n",
      "After completing your checkout and once your listing is submitted, we are unable to update the package type (i.e. upgrade from “Basic” to “Premium”). If it is within 24 hours of submission, you can cancel your listing and be issued a refund, then submit a new listing with a different ad package.\n",
      "Our Basic listings are 100% free, while our Plus and Premium ads include a one-time ad listing charge. Detailed pricing information can be found here.\n",
      "PHOTOS - Make sure your photos are awesome! Present images from a variety of angles and make sure they are a high quality. Provide potential buyers with a true sense of what your vehicle looks like.\n",
      "SELLER’S NOTES - Share your car’s best features. Write seller’s notes that include any option packages, warranties, upgrades, etc. Including this information will allow it to be accessible to shoppers through the site’s keyword search functionality.\n",
      "COMPETITIVE PRICING - Ensure that you are pricing your vehicle competitively with our vehicle valuation tool.\n",
      "HISTORY REPORTS - Upgrade your ad package to include a Carfax report. Buyers appreciate a history report and often seek this information when considering the purchase of a vehicle.\n",
      "CONTACT INFORMATION – Confirm that your listing’s contact information is correct.\n",
      "Due to manufacturer regulations, only Franchise dealerships may list their inventory as \"Certified Pre-Owned\" on Cars.com. Vehicle manufacturers require that a vehicle must undergo a rigorous inspection process by a manufacturer-approved mechanic, so once you own and drive the vehicle it is no longer considered ‘Certified’ by the manufacturer. If your vehicle was purchased as a “Certified Pre-Owned” vehicle, you can note this in the description of your ad and can state if the extended warranty is transferable to the next owner.\n",
      "The easiest way is to email yourself the photos from your phone, save them to your computer, and upload from there.\n",
      "We do not currently offer an option to add additional photos to a pre- existing vehicle listing. We allow for 5 photos on our Basic package, 10 photos on the Plus package, and 15 on the Premium package.\n",
      "Images must be under 8MB to successfully upload. You can resize photos using the Paint software on PC, or Preview software on Mac. If you need assistance, email the images to sellyourcars@cars.com, and we can adjust and upload the images for you (note that your listing must be live for us to update it).\n",
      "\n"
     ]
    }
   ],
   "source": [
    "print(raw_data)"
   ]
  },
  {
   "cell_type": "markdown",
   "metadata": {
    "colab": {
     "base_uri": "https://localhost:8080/",
     "height": 54
    },
    "colab_type": "code",
    "id": "lvjCwRwSohdH",
    "outputId": "9b1119cc-0fca-4fe3-f286-f53f293fe655"
   },
   "source": [
    "## Tokenization\n",
    "As we can see, this data is plain, raw text copy and pasted from the cars.com FAQ webpage. We should tokenize the text to analyze the data in bits rather than entire chunks. To do this, we will use NLTK's 'punkt' model: this model tokenizes the words into single words in a list. \n",
    "\n",
    "In definition, a token is an instance of a sequence of characters in a document that are grouped together as a useful semantic unit for processing."
   ]
  },
  {
   "cell_type": "code",
   "execution_count": 5,
   "metadata": {},
   "outputs": [
    {
     "name": "stderr",
     "output_type": "stream",
     "text": [
      "[nltk_data] Downloading package punkt to /Users/anshikka/nltk_data...\n",
      "[nltk_data]   Package punkt is already up-to-date!\n"
     ]
    }
   ],
   "source": [
    "nltk.download('punkt')\n",
    "word_tokens = nltk.word_tokenize(raw_data) # converts to list of words\n",
    "sent_tokens = nltk.sent_tokenize(raw_data) # converts to a list of sentences"
   ]
  },
  {
   "cell_type": "markdown",
   "metadata": {},
   "source": [
    "### Frequency of Tokens\n",
    "Let's visualize frequency of different words in this dataset. This way, we can figure out keywords that would get the chatbot to respond in correctly and accurately. The function to get the graph for this was referenced from https://stackoverflow.com/questions/29755861/plotting-words-frequency-and-nltk. We will be using the individual tokens to assess their frequency."
   ]
  },
  {
   "cell_type": "code",
   "execution_count": 6,
   "metadata": {},
   "outputs": [],
   "source": [
    "def graph(word_tokens):\n",
    "  tokens = word_tokens\n",
    "  fd = nltk.FreqDist(tokens)\n",
    "  fd.plot(30,cumulative=False, title=\"Frequency of Tokens from Cars.com FAQ Dataset\")"
   ]
  },
  {
   "cell_type": "code",
   "execution_count": 7,
   "metadata": {},
   "outputs": [
    {
     "data": {
      "text/plain": [
       "<Figure size 640x480 with 1 Axes>"
      ]
     },
     "metadata": {},
     "output_type": "display_data"
    }
   ],
   "source": [
    "graph(word_tokens)"
   ]
  },
  {
   "cell_type": "markdown",
   "metadata": {
    "colab_type": "text",
    "id": "r4_ahJ2ZphWU"
   },
   "source": [
    "### Stop Words\n",
    "As we can see, the words with the most frequency include 'the', 'your', 'to', 'a,' etc. Judging by the commonality of these words, we can assume that they won't be as important to training to model based on our specific goal: to answer qeustions about Cars.com. These are called stop words. Stop words are extremely common words with little value. Usually these words have to be excluded from the vocabulary for meaningful training."
   ]
  },
  {
   "cell_type": "markdown",
   "metadata": {
    "colab": {
     "base_uri": "https://localhost:8080/",
     "height": 122
    },
    "colab_type": "code",
    "id": "B7TnmHubowzT",
    "outputId": "10157682-6bce-47fa-a7a6-a8c5d7c08be4"
   },
   "source": [
    "### Normalization\n",
    "Normalization is getting the data into a form that will be useful for the training model. We want to clean this data as much as possible, removing unncessesary suffixes, prefixes, and punction. We also want to make all words lowercase.\n"
   ]
  },
  {
   "cell_type": "markdown",
   "metadata": {},
   "source": [
    "#### Stemming and Lemmatization\n",
    "Stemming/Lemmatization help extract the base form of words. For example, let's say we have the word \"driving.\" The stemmer would extract the \"-ing\" ending to get the base word. However, a problem with a stemmer is that it can often create words that don't exist. In this case, it would create a word called \"driv\". A lemmer would avoid this by actually returning an actual word. Lemmers are more generalized since they can handle similar words such as \"good\" and \"better\" in the same lemma.\n",
    "A module from NLTK's API called WordNet helps with lemmatization as it's a semantically-oriented dictionary of English."
   ]
  },
  {
   "cell_type": "code",
   "execution_count": 8,
   "metadata": {
    "colab": {
     "base_uri": "https://localhost:8080/",
     "height": 54
    },
    "colab_type": "code",
    "id": "Pr7E7thLpm8m",
    "outputId": "fb04bf87-d5cf-408a-bc19-2cbdbf18d91a"
   },
   "outputs": [
    {
     "name": "stderr",
     "output_type": "stream",
     "text": [
      "[nltk_data] Downloading package wordnet to\n",
      "[nltk_data]     /Users/anshikka/nltk_data...\n",
      "[nltk_data]   Package wordnet is already up-to-date!\n"
     ]
    }
   ],
   "source": [
    "nltk.download('wordnet')\n",
    "\n",
    "lemmer = nltk.stem.WordNetLemmatizer()\n",
    "\n",
    "def LemTokens(tokens):\n",
    "    return[lemmer.lemmatize(token) for token in tokens]"
   ]
  },
  {
   "cell_type": "markdown",
   "metadata": {},
   "source": [
    "#### Punctuation\n",
    "When training the model, we base our training off of words given by context, not by punctuation. This is why it is best to reduce noise by removing all punctuation in the text data."
   ]
  },
  {
   "cell_type": "code",
   "execution_count": 9,
   "metadata": {},
   "outputs": [],
   "source": [
    "remove_punct_dict = dict((ord(punct), None) for punct in string.punctuation)"
   ]
  },
  {
   "cell_type": "markdown",
   "metadata": {},
   "source": [
    "#### Case-Folding\n",
    "Since we want the training model to treat all data equally, we want it to treat uppercase and lowercase words the same. This is why it is best to convert all training data for text to a lowercase form. This is called case-folding."
   ]
  },
  {
   "cell_type": "code",
   "execution_count": 10,
   "metadata": {},
   "outputs": [],
   "source": [
    "def normalize(text):\n",
    "    return LemTokens(nltk.word_tokenize(text.lower().translate(remove_punct_dict)))"
   ]
  },
  {
   "cell_type": "markdown",
   "metadata": {},
   "source": [
    "Now that everything is normalized, let's print out the frequency of tokens again."
   ]
  },
  {
   "cell_type": "code",
   "execution_count": 11,
   "metadata": {},
   "outputs": [
    {
     "data": {
      "image/png": "[encoded data removed]",
      "text/plain": [
       "<Figure size 432x288 with 1 Axes>"
      ]
     },
     "metadata": {
      "needs_background": "light"
     },
     "output_type": "display_data"
    }
   ],
   "source": [
    "graph(normalize(raw_data))"
   ]
  },
  {
   "cell_type": "markdown",
   "metadata": {},
   "source": [
    "Looking at this graph, we can see that all of the words are in lowercase and punctuation is gone. These are all stem words that were lemmatized (in their base form). There are no alternate forms of words including words ending with \"-ing\", \"-ed\", etc. Stop words will be removed with TF-IDF (Term Frequency-Inverse Document Frequency)"
   ]
  },
  {
   "cell_type": "markdown",
   "metadata": {
    "colab_type": "text",
    "id": "GBXVEDVrRJ4k"
   },
   "source": [
    "# Models\n",
    "We will run 2 models on the text data to see which one yields better results."
   ]
  },
  {
   "cell_type": "markdown",
   "metadata": {},
   "source": [
    "## TF-IDF (Term Frequency-Inverse Document Frequency)\n",
    "TF-IDF is a text-learning model that is based on:\n",
    "* Measuring how important a word is in the context\n",
    "    * The tf-idf value increases proportionally to the number of times a word appears in the doccument, offset by the frequency of the word in the corpus\n",
    "    * It is used for stop-word filtering"
   ]
  },
  {
   "cell_type": "code",
   "execution_count": 12,
   "metadata": {
    "colab": {},
    "colab_type": "code",
    "id": "nvKNHoftprs0"
   },
   "outputs": [],
   "source": [
    "def tfidf(sentence_tokens):\n",
    "    TfidfVec = TfidfVectorizer(tokenizer=normalize, stop_words='english')\n",
    "    tfidf = TfidfVec.fit_transform(sentence_tokens)\n",
    "    return tfidf\n"
   ]
  },
  {
   "cell_type": "markdown",
   "metadata": {
    "colab": {},
    "colab_type": "code",
    "id": "17xtoHjCsW2Z"
   },
   "source": [
    "## Cosine Similarity\n",
    "Now that we have numerical vectors in a vector space, we can now apply them to computational algorithms. In this simple case, one can use cosine similarity. This method simply returns the cosine of the angle between the vectors. In terms of trignometry, more similar words will have a smaller angle between them, considering them as \"similar\". This will help the bot pick out the response sentences from the data that best matches the user's response."
   ]
  },
  {
   "cell_type": "code",
   "execution_count": 13,
   "metadata": {
    "colab": {},
    "colab_type": "code",
    "id": "DGEiMLyDsYlb"
   },
   "outputs": [],
   "source": [
    "stored_responses = []\n",
    "def response(user_response):\n",
    "    robo_response=''\n",
    "    sent_tokens.append(user_response)\n",
    "    importances = tfidf(sent_tokens)\n",
    "    vals = cosine_similarity(importances[-1], importances)\n",
    "    idx=vals.argsort()[0][-2]\n",
    "    flat = vals.flatten()\n",
    "    flat.sort()\n",
    "    req_tfidf = flat[-2]\n",
    "    if(req_tfidf==0):\n",
    "        robo_response=robo_response+\"I am sorry! I don't understand you\"\n",
    "        return robo_response, req_tfidf\n",
    "    else:\n",
    "        robo_response = robo_response+sent_tokens[idx]\n",
    "        stored_responses.append(robo_response.split())\n",
    "        return robo_response, req_tfidf"
   ]
  },
  {
   "cell_type": "code",
   "execution_count": 14,
   "metadata": {},
   "outputs": [],
   "source": [
    "GREETING_INPUTS = (\"hello\", \"hi\", \"greetings\", \"sup\", \"what's up\",\"hey\",)\n",
    "GREETING_RESPONSES = [\"hi\", \"hey\", \"*nods*\", \"hi there\", \"hello\", \"I am glad! You are talking to me\"]\n",
    "def greeting(sentence):\n",
    " \n",
    "    for word in sentence.split():\n",
    "        if word.lower() in GREETING_INPUTS:\n",
    "            return random.choice(GREETING_RESPONSES)"
   ]
  },
  {
   "cell_type": "code",
   "execution_count": 15,
   "metadata": {
    "colab": {
     "base_uri": "https://localhost:8080/",
     "height": 360
    },
    "colab_type": "code",
    "id": "7XxGIq9ntXV6",
    "outputId": "82e9fa1a-e2c1-42a6-8d24-56faa094734f"
   },
   "outputs": [
    {
     "name": "stdout",
     "output_type": "stream",
     "text": [
      "Cars.com: This is the Cars.com FAQ chatbot. If you want to exit, type 'Bye'!\n",
      "hi\n",
      "Cars.com Bot: hello\n",
      "what's the weathert\n"
     ]
    },
    {
     "name": "stderr",
     "output_type": "stream",
     "text": [
      "/miniconda3/lib/python3.6/site-packages/sklearn/feature_extraction/text.py:300: UserWarning: Your stop_words may be inconsistent with your preprocessing. Tokenizing the stop words generated tokens ['ha', 'le', 'u', 'wa'] not in stop_words.\n",
      "  'stop_words.' % sorted(inconsistent))\n"
     ]
    },
    {
     "name": "stdout",
     "output_type": "stream",
     "text": [
      "Cars.com Bot: I am sorry! I don't understand you\n",
      "how can prospective buyers contact me?\n",
      "Cars.com Bot: Prospective buyers can contact you via phone by clicking “Call This Seller” to expose your phone number.\n",
      "how do i delete an ad?\n",
      "Cars.com Bot: You can delete, renew, edit or place a listing on hold all from your seller dashboard.\n",
      "bye\n",
      "Cars.com Bot: Bye!\n",
      "Average Cosine Similarity:  0.2556791153314\n"
     ]
    }
   ],
   "source": [
    "flag = True\n",
    "total_similarity = 0\n",
    "print(\"Cars.com: This is the Cars.com FAQ chatbot. If you want to exit, type 'Bye'!\")\n",
    "responses = 0\n",
    "while(flag == True):\n",
    "  user_response = input()\n",
    "  user_response = user_response.lower()\n",
    "  if(user_response != 'bye'):\n",
    "    if(user_response=='thanks' or user_response == 'thank you'):\n",
    "      flag = False\n",
    "      print(\"Cars.com Bot: You are welcome..\")\n",
    "    else:\n",
    "      if(greeting(user_response) != None):\n",
    "        print(\"Cars.com Bot: \"+greeting(user_response))\n",
    "      else:\n",
    "        responses += 1\n",
    "        print(\"Cars.com Bot: \", end = \"\")\n",
    "        result = response(user_response)\n",
    "        print(result[0])\n",
    "        total_similarity+=result[1]\n",
    "        sent_tokens.remove(user_response)\n",
    "  else:\n",
    "    flag = False\n",
    "    print(\"Cars.com Bot: Bye!\")\n",
    "\n",
    "if responses == 0:\n",
    "    responses = 1\n",
    "print(\"Average Cosine Similarity: \", total_similarity/responses)\n",
    "bleu_score = sent_tokens"
   ]
  },
  {
   "cell_type": "markdown",
   "metadata": {},
   "source": [
    "### Evaluation of Cosine Similarity-Based Model\n",
    "Sadly, we cannot assess performance as well for a chatbot using cosine similarity. However, we can compute the average cosine similarity (how close a response was to the question being asked) over the execution of the chatbot. Overall, we want to aim for a higher cosine simiarity. It ranges from 0 to 1, with 1 being an exact match to the text inputted by the user. If we have 1, it means that the data we entered exactly matches one of our responses. This isn't necessairly good as it is just returning a repeat of what we asked. This is why we need a variety of data. Being 0 or close to 0 means that it could not return a close enough response to the input that was given. We should aim for an average of 0.7 to 0.8 for the best responses. "
   ]
  },
  {
   "cell_type": "markdown",
   "metadata": {},
   "source": [
    "### Interpretation of Cosine Similarity-Based Model\n",
    "As we can see from the chatbot results, the responses are pretty accurate to what the user enters, but doesn't completely give the correct answer. For example, let's say one of the key words is \"buy cars\". It can have a variety of responses and might chose the closest one, but it may not be the best one. This is all determined by context. Context is a major impediment to building chatbots since a model has to take in the correct decision based on previous responses building the current situation that arises. Cosine similarity-based chatbots are very simple and can be used for as simple information dissemination bots. This can be used in a variety of mediums such as FAQs, simple interactive learning, questions, etc. However, they aren't conversational."
   ]
  },
  {
   "cell_type": "markdown",
   "metadata": {},
   "source": [
    "##  Euclidean Distance Similarity\n",
    "Euclidean Distance is simply the straight line distance from one vector to the other. We want to minimize this by getting the responses with the lowest euclidean distance."
   ]
  },
  {
   "cell_type": "code",
   "execution_count": null,
   "metadata": {},
   "outputs": [],
   "source": [
    "\n"
   ]
  },
  {
   "cell_type": "code",
   "execution_count": 16,
   "metadata": {},
   "outputs": [],
   "source": [
    "def response_euclidean(user_response):\n",
    "    robo_response=''\n",
    "    sent_tokens.append(user_response)\n",
    "    importances = tfidf(sent_tokens)\n",
    "    vals = pairwise_distances(importances[-1], importances, metric='euclidean')\n",
    "    idx=vals.argsort()[0][-2]\n",
    "    flat = vals.flatten()\n",
    "    flat.sort()\n",
    "    req_tfidf = flat[2]\n",
    "    if(req_tfidf==0):\n",
    "        robo_response=robo_response+\"I am sorry! I don't understand you\"\n",
    "        return robo_response, req_tfidf\n",
    "    else:\n",
    "        robo_response = robo_response+sent_tokens[idx]\n",
    "        return robo_response, req_tfidf"
   ]
  },
  {
   "cell_type": "code",
   "execution_count": 17,
   "metadata": {},
   "outputs": [
    {
     "name": "stdout",
     "output_type": "stream",
     "text": [
      "Cars.com: This is the Cars.com FAQ chatbot. If you want to exit, type 'Bye'!\n",
      "hi\n",
      "Cars.com Bot: *nods*\n",
      "how can prospective buyers contact me?\n",
      "Cars.com Bot: HISTORY REPORTS - Upgrade your ad package to include a Carfax report.\n",
      "bye\n",
      "Cars.com Bot: Bye!\n",
      "Average Distance:  1.187130483152017\n"
     ]
    }
   ],
   "source": [
    "flag = True\n",
    "total_distance = 0\n",
    "print(\"Cars.com: This is the Cars.com FAQ chatbot. If you want to exit, type 'Bye'!\")\n",
    "responses = 0\n",
    "while(flag == True):\n",
    "  user_response = input()\n",
    "  user_response = user_response.lower()\n",
    "  if(user_response != 'bye'):\n",
    "    if(user_response=='thanks' or user_response == 'thank you'):\n",
    "      flag = False\n",
    "      print(\"Cars.com Bot: You are welcome..\")\n",
    "    else:\n",
    "      if(greeting(user_response) != None):\n",
    "        print(\"Cars.com Bot: \"+greeting(user_response))\n",
    "      else:\n",
    "        responses += 1\n",
    "        print(\"Cars.com Bot: \", end = \"\")\n",
    "        result = response_euclidean(user_response)\n",
    "        print(result[0])\n",
    "        total_distance+=result[1]\n",
    "        sent_tokens.remove(user_response)\n",
    "  else:\n",
    "    flag = False\n",
    "    print(\"Cars.com Bot: Bye!\")\n",
    "\n",
    "print(\"Average Distance: \", total_distance/responses)"
   ]
  },
  {
   "cell_type": "markdown",
   "metadata": {},
   "source": [
    "### Evaluation of Euclidean Distance Similarity-Based Model\n",
    "Being based on a metric itself, it is kind of hard to evaluate this model mathematically. We can always compute the average distance of the vectors over the execution of the chatbot. However euclidean distances can be infinte. They can range from negative infinity to infinity, so finding a correct measure is hard. We can see that from chatting with bot, the results aren't very accurate. A lot of them don't even make sense. "
   ]
  },
  {
   "cell_type": "markdown",
   "metadata": {},
   "source": [
    "### Interpretation of Euclidean Distance Similarity-Based Model\n",
    "Euclidean distance isn't the best way for chatbots to operate with because euclidean distance does NOT take into account the direction of a vector. When classifying text, one needs to use angular distance. This would cause vectors with completely different angles to become clustered in the space, considering everything as \"similar\" and wouldn't show any meaningful responses."
   ]
  },
  {
   "cell_type": "markdown",
   "metadata": {},
   "source": [
    "# Conclusion\n",
    "\n",
    "| Model              \t| Accept or No? \t| Reason                                                                                                                                                                                                                                        \t|\n",
    "|--------------------\t|---------------\t|-----------------------------------------------------------------------------------------------------------------------------------------------------------------------------------------------------------------------------------------------\t|\n",
    "| Cosine Similarity  \t| Yes           \t| Cosine similarity uses the individual token vectors to compare different angles between them. Since vectors are angularly measured, this would be great for chatbots searching for context of what the user has input.                        \t|\n",
    "| Euclidean Distance \t| No            \t| Euclidean distance uses distance rather than angle. Since vectors are angularly measured, they will cluster in one area. This approach will be extremely inaccurate since it is not properly choosing the  direction of where the token goes. \t|\n",
    "\n",
    "Overall, building a chatbot requires a plethora of data and structural complexity. If this chat bot were to be improved, I would have employed deep learning. Deep learning would help keep track of context while maintaining a very human-like conversational tone. Chatbots like Siri and Google Assistant use deep learning to accomplish tasks with just a command.\n",
    "\n",
    "## Business Use Case for a Cars.com FAQ Bot\n",
    "Being a huge platform to sell used cars, people are bound to have common questions. It would be a waste of resources for the company to employ many on-call employees to answer these simple questions. With a chatbot, people who like more personalized interactions will tend to use that and let the customer service agents handle more complex issues. This will scale up productivity and drive up revenue."
   ]
  },
  {
   "cell_type": "markdown",
   "metadata": {},
   "source": []
  }
 ],
 "metadata": {
  "colab": {
   "collapsed_sections": [],
   "name": "FinalProject.ipynb",
   "provenance": [],
   "version": "0.3.2"
  },
  "kernelspec": {
   "display_name": "Python 3",
   "language": "python",
   "name": "python3"
  },
  "language_info": {
   "codemirror_mode": {
    "name": "ipython",
    "version": 3
   },
   "file_extension": ".py",
   "mimetype": "text/x-python",
   "name": "python",
   "nbconvert_exporter": "python",
   "pygments_lexer": "ipython3",
   "version": "3.6.8"
  }
 },
 "nbformat": 4,
 "nbformat_minor": 1
}
